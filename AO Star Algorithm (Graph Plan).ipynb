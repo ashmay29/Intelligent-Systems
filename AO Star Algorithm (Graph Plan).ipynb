{
  "nbformat": 4,
  "nbformat_minor": 0,
  "metadata": {
    "colab": {
      "provenance": []
    },
    "kernelspec": {
      "name": "python3",
      "display_name": "Python 3"
    },
    "language_info": {
      "name": "python"
    }
  },
  "cells": [
    {
      "cell_type": "code",
      "source": [
        "heuristic_values = {\n",
        "    'Travel': {\n",
        "        'Train': 2000,\n",
        "        'Bus': 1500,\n",
        "        'Flight': 5000,\n",
        "        'Vanity Van': 7000\n",
        "    },\n",
        "    'Accommodation': {  # Changed from Stay to match the graph\n",
        "        'Westin': 6000,\n",
        "        'Kennel Worth': 5000,\n",
        "        'Maria Rica': 3000\n",
        "    },\n",
        "    'Meal': {\n",
        "        'Package': 0,\n",
        "        'Cook': 500,\n",
        "        'Eat Outside': 1500\n",
        "    }\n",
        "}\n"
      ],
      "metadata": {
        "id": "bBE1IE1imTsc"
      },
      "execution_count": null,
      "outputs": []
    },
    {
      "cell_type": "code",
      "source": [
        "graph = {\n",
        "    'Mumbai': [('Travel', 'AND')],\n",
        "    'Travel': [\n",
        "        ('Train', 'OR'),\n",
        "        ('Bus', 'OR'),\n",
        "        ('Flight', 'OR'),\n",
        "        ('Vanity Van', 'OR')\n",
        "    ],\n",
        "    'Train': [('Accommodation', 'AND')],\n",
        "    'Bus': [('Accommodation', 'AND')],\n",
        "    'Flight': [('Accommodation', 'AND')],\n",
        "    'Vanity Van': [('Accommodation', 'AND')],  # Redirected to Accommodation instead of Meal\n",
        "    'Accommodation': [\n",
        "        ('Westin', 'OR'),\n",
        "        ('Kennel Worth', 'OR'),\n",
        "        ('Maria Rica', 'OR')\n",
        "    ],\n",
        "    'Westin': [('Taj Aguada', 'AND')],\n",
        "    'Kennel Worth': [('Taj Aguada', 'AND')],\n",
        "    'Maria Rica': [('Taj Aguada', 'AND')],\n",
        "    'Meal': [\n",
        "        ('Package', 'OR'),  # Added Package if intended\n",
        "        ('Cook', 'OR'),\n",
        "        ('Eat Outside', 'OR')\n",
        "    ],\n",
        "    'Cook': [('Taj Aguada', 'AND')],\n",
        "    'Eat Outside': [('Taj Aguada', 'AND')],\n",
        "    'Taj Aguada': []\n",
        "}"
      ],
      "metadata": {
        "id": "0Hc-6wcLDwW0"
      },
      "execution_count": null,
      "outputs": []
    },
    {
      "cell_type": "code",
      "source": [
        "open_list = ['Mumbai']\n",
        "closed_list = []\n",
        "\n",
        "def evaluate_heuristic(node, choice):\n",
        "    if node == 'Travel':\n",
        "        return heuristic_values['Travel'].get(choice, float('inf'))\n",
        "    elif node == 'Stay':\n",
        "        return heuristic_values['Accommodation'].get(choice, float('inf'))\n",
        "    elif node == 'Meal':\n",
        "        return heuristic_values['Meal'].get(choice, float('inf'))\n",
        "    return 0\n",
        "\n",
        "def AO_star(node):\n",
        "    global open_list, closed_list\n",
        "    if node == 'Taj Aguada':\n",
        "        return 0  # Base case for reaching the destination\n",
        "\n",
        "    if node not in open_list:\n",
        "        return float('inf')  # If node isn't in open list, avoid further expansion\n",
        "\n",
        "    open_list.remove(node)\n",
        "    closed_list.append(node)\n",
        "\n",
        "    children = graph.get(node, [])\n",
        "    if not children:\n",
        "        return evaluate_heuristic(node, node)\n",
        "\n",
        "    min_cost = float('inf')\n",
        "\n",
        "    # Tracking costs separately for AND and OR nodes\n",
        "    for child, node_type in children:\n",
        "        cost = evaluate_heuristic(node, child)\n",
        "\n",
        "        if node_type == 'AND':\n",
        "            # For 'AND' type nodes, accumulate total cost\n",
        "            child_cost = AO_star(child)\n",
        "            if child_cost == float('inf'):\n",
        "                continue  # Skip if child leads to an infinite path\n",
        "            total_cost = cost + child_cost\n",
        "            print(f\"Evaluating AND node: {node} with child {child}, cumulative cost: ₹{total_cost}\")\n",
        "            min_cost = total_cost  # Take the cumulative total cost for AND paths directly\n",
        "\n",
        "        elif node_type == 'OR':\n",
        "            # For 'OR' type nodes, find the minimum cost among options\n",
        "            child_cost = AO_star(child)\n",
        "            total_cost = cost + child_cost\n",
        "            print(f\"Evaluating OR node: {node} with child {child}, cost: ₹{total_cost}\")\n",
        "            min_cost = min(min_cost, total_cost)  # Track minimum cost across OR options\n",
        "\n",
        "    # Display final minimum cost for the root node\n",
        "    if node == 'Mumbai' and min_cost < float('inf'):\n",
        "        print(f\"Optimal travel and stay plan cost: ₹{min_cost}\")\n",
        "\n",
        "    return min_cost\n",
        "\n",
        "# Calculate and print the final optimal cost\n",
        "solution_cost = AO_star('Mumbai')\n",
        "print(f\"Optimal plan cost: ₹{solution_cost}\")"
      ],
      "metadata": {
        "id": "WVK4p_75mVFv",
        "colab": {
          "base_uri": "https://localhost:8080/"
        },
        "outputId": "c56c22e2-9186-44ed-8c20-30e2c88f9d40"
      },
      "execution_count": null,
      "outputs": [
        {
          "output_type": "stream",
          "name": "stdout",
          "text": [
            "Optimal plan cost: ₹inf\n"
          ]
        }
      ]
    },
    {
      "cell_type": "code",
      "source": [],
      "metadata": {
        "id": "wLLHhF1jCTp8"
      },
      "execution_count": null,
      "outputs": []
    }
  ]
}
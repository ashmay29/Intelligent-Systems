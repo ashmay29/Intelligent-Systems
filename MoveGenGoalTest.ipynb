{
  "nbformat": 4,
  "nbformat_minor": 0,
  "metadata": {
    "colab": {
      "provenance": []
    },
    "kernelspec": {
      "name": "python3",
      "display_name": "Python 3"
    },
    "language_info": {
      "name": "python"
    }
  },
  "cells": [
    {
      "cell_type": "markdown",
      "source": [
        "#Travelling Salesman Problem (TSP)\n",
        "A salesman needs to visit a set of cities, traveling to each city exactly once and returning to the starting point. The objective is to find the shortest possible route that visits all cities, optimizing the total travel distance."
      ],
      "metadata": {
        "id": "vQG1YzuqtQPj"
      }
    },
    {
      "cell_type": "code",
      "execution_count": 1,
      "metadata": {
        "id": "o5v4wQCSjLKf"
      },
      "outputs": [],
      "source": [
        "import itertools\n",
        "\n",
        "class TravellingSalesmanProblem:\n",
        "    def __init__(self, distances):\n",
        "        self.distances = distances\n",
        "        self.num_cities = len(distances)\n",
        "        self.cities = range(self.num_cities)\n",
        "\n",
        "    def calculate_route_distance(self, route):\n",
        "        distance = 0\n",
        "        for i in range(len(route) - 1):\n",
        "            distance += self.distances[route[i]][route[i+1]]\n",
        "        distance += self.distances[route[-1]][route[0]]\n",
        "        return distance\n",
        "\n",
        "    def movegen(self, start_city):\n",
        "        other_cities = [city for city in self.cities if city != start_city]\n",
        "        routes = itertools.permutations(other_cities)\n",
        "        full_routes = [(start_city,) + route for route in routes]\n",
        "        return full_routes\n",
        "\n",
        "    def goaltest(self, route):\n",
        "        return len(route) == self.num_cities and len(set(route)) == self.num_cities\n",
        "\n",
        "    def find_shortest_route(self, start_city=0):\n",
        "        shortest_route = None\n",
        "        min_distance = float('inf')\n",
        "        for route in self.movegen(start_city):\n",
        "            if self.goaltest(route):\n",
        "                current_distance = self.calculate_route_distance(route)\n",
        "                if current_distance < min_distance:\n",
        "                    min_distance = current_distance\n",
        "                    shortest_route = route\n",
        "        return shortest_route, min_distance"
      ]
    },
    {
      "cell_type": "code",
      "source": [
        "def main():\n",
        "    print(\"Enter the number of cities:\")\n",
        "    num_cities = int(input())\n",
        "\n",
        "    distances = []\n",
        "    print(\"Enter the distance matrix (enter the distances row by row):\")\n",
        "    for i in range(num_cities):\n",
        "        row = list(map(int, input().split()))\n",
        "        distances.append(row)\n",
        "\n",
        "    tsp = TravellingSalesmanProblem(distances)\n",
        "\n",
        "    start_city = 0\n",
        "    shortest_route, min_distance = tsp.find_shortest_route(start_city)\n",
        "\n",
        "    print(f\"The shortest route starting from city {start_city} is: {shortest_route}\")\n",
        "    print(f\"The minimum distance is: {min_distance}\")\n",
        "\n",
        "if __name__ == \"__main__\":\n",
        "    main()"
      ],
      "metadata": {
        "colab": {
          "base_uri": "https://localhost:8080/"
        },
        "id": "aGWN_T69jeT5",
        "outputId": "f8abd18d-d20a-44f8-f6f5-7a6999fcd101"
      },
      "execution_count": 2,
      "outputs": [
        {
          "output_type": "stream",
          "name": "stdout",
          "text": [
            "Enter the number of cities:\n",
            "4\n",
            "Enter the distance matrix (enter the distances row by row):\n",
            "0 4 1 9\n",
            "3 0 6 11\n",
            "4 1 0 2\n",
            "6 5 -4 0\n",
            "The shortest route starting from city 0 is: (0, 3, 2, 1)\n",
            "The minimum distance is: 9\n"
          ]
        }
      ]
    },
    {
      "cell_type": "markdown",
      "source": [
        "#Water Jug Problem\n",
        "You are provided with two jugs of different capacities (3 liters and 7 liters), and your goal is to measure exactly 6 liters of water. The problem involves determining a sequence of operations to achieve this target volume using the two jugs."
      ],
      "metadata": {
        "id": "Wc8CXc9ttKCZ"
      }
    },
    {
      "cell_type": "code",
      "source": [
        "class WaterJugProblem3Jugs:\n",
        "    def __init__(self, capacityA, capacityB, capacityC):\n",
        "        self.capacityA = capacityA\n",
        "        self.capacityB = capacityB\n",
        "        self.capacityC = capacityC\n",
        "\n",
        "    def fill(self, state, jug):\n",
        "        if jug == 'A':\n",
        "            return (self.capacityA, state[1], state[2])\n",
        "        elif jug == 'B':\n",
        "            return (state[0], self.capacityB, state[2])\n",
        "        elif jug == 'C':\n",
        "            return (state[0], state[1], self.capacityC)\n",
        "        return state\n",
        "\n",
        "    def empty(self, state, jug):\n",
        "        if jug == 'A':\n",
        "            return (0, state[1], state[2])\n",
        "        elif jug == 'B':\n",
        "            return (state[0], 0, state[2])\n",
        "        elif jug == 'C':\n",
        "            return (state[0], state[1], 0)\n",
        "        return state\n",
        "\n",
        "    def pour(self, state, from_jug, to_jug):\n",
        "        if from_jug == 'A' and to_jug == 'B':\n",
        "            transfer = min(state[0], self.capacityB - state[1])\n",
        "            return (state[0] - transfer, state[1] + transfer, state[2])\n",
        "        elif from_jug == 'A' and to_jug == 'C':\n",
        "            transfer = min(state[0], self.capacityC - state[2])\n",
        "            return (state[0] - transfer, state[1], state[2] + transfer)\n",
        "        elif from_jug == 'B' and to_jug == 'A':\n",
        "            transfer = min(state[1], self.capacityA - state[0])\n",
        "            return (state[0] + transfer, state[1] - transfer, state[2])\n",
        "        elif from_jug == 'B' and to_jug == 'C':\n",
        "            transfer = min(state[1], self.capacityC - state[2])\n",
        "            return (state[0], state[1] - transfer, state[2] + transfer)\n",
        "        elif from_jug == 'C' and to_jug == 'A':\n",
        "            transfer = min(state[2], self.capacityA - state[0])\n",
        "            return (state[0] + transfer, state[1], state[2] - transfer)\n",
        "        elif from_jug == 'C' and to_jug == 'B':\n",
        "            transfer = min(state[2], self.capacityB - state[1])\n",
        "            return (state[0], state[1] + transfer, state[2] - transfer)\n",
        "        return state\n",
        "\n",
        "    def get_possible_moves(self, state):\n",
        "        moves = []\n",
        "        for jug in 'ABC':\n",
        "            moves.append(self.fill(state, jug))\n",
        "            moves.append(self.empty(state, jug))\n",
        "        for from_jug in 'ABC':\n",
        "            for to_jug in 'ABC':\n",
        "                if from_jug != to_jug:\n",
        "                    moves.append(self.pour(state, from_jug, to_jug))\n",
        "        return moves"
      ],
      "metadata": {
        "id": "4lxPqDsZkJGk"
      },
      "execution_count": 3,
      "outputs": []
    },
    {
      "cell_type": "code",
      "source": [
        "def main():\n",
        "    print(\"Enter capacities for the three jugs:\")\n",
        "    capacityA = int(input(\"Capacity of Jug A: \"))\n",
        "    capacityB = int(input(\"Capacity of Jug B: \"))\n",
        "    capacityC = int(input(\"Capacity of Jug C: \"))\n",
        "\n",
        "    print(\"Enter initial state for the three jugs:\")\n",
        "    initialA = int(input(\"Initial amount in Jug A: \"))\n",
        "    initialB = int(input(\"Initial amount in Jug B: \"))\n",
        "    initialC = int(input(\"Initial amount in Jug C: \"))\n",
        "\n",
        "    problem = WaterJugProblem3Jugs(capacityA, capacityB, capacityC)\n",
        "\n",
        "    initial_state = (initialA, initialB, initialC)\n",
        "    possible_moves = problem.get_possible_moves(initial_state)\n",
        "\n",
        "    print(f\"Possible moves from state {initial_state}:\")\n",
        "    for move in possible_moves:\n",
        "        print(move)\n",
        "\n",
        "if __name__ == \"__main__\":\n",
        "    main()"
      ],
      "metadata": {
        "colab": {
          "base_uri": "https://localhost:8080/"
        },
        "id": "8IsxenKQl9Om",
        "outputId": "26001d32-e55a-4df6-8cf7-734d9386a52f"
      },
      "execution_count": 4,
      "outputs": [
        {
          "output_type": "stream",
          "name": "stdout",
          "text": [
            "Enter capacities for the three jugs:\n",
            "Capacity of Jug A: 3\n",
            "Capacity of Jug B: 7\n",
            "Capacity of Jug C: 6\n",
            "Enter initial state for the three jugs:\n",
            "Initial amount in Jug A: 0\n",
            "Initial amount in Jug B: 0\n",
            "Initial amount in Jug C: 6\n",
            "Possible moves from state (0, 0, 6):\n",
            "(3, 0, 6)\n",
            "(0, 0, 6)\n",
            "(0, 7, 6)\n",
            "(0, 0, 6)\n",
            "(0, 0, 6)\n",
            "(0, 0, 0)\n",
            "(0, 0, 6)\n",
            "(0, 0, 6)\n",
            "(0, 0, 6)\n",
            "(0, 0, 6)\n",
            "(3, 0, 3)\n",
            "(0, 6, 0)\n"
          ]
        }
      ]
    },
    {
      "cell_type": "markdown",
      "source": [
        "#8 Puzzle Problem\n",
        "This problem involves a 3x3 grid with 8 numbered tiles and one blank space. The goal is to arrange the tiles into a specific order by sliding them into the blank space, starting from an initial configuration."
      ],
      "metadata": {
        "id": "jGyc-31YtCc4"
      }
    },
    {
      "cell_type": "code",
      "source": [
        "from typing import List, Tuple\n",
        "\n",
        "DIRECTIONS = [(-1, 0), (1, 0), (0, -1), (0, 1)]\n",
        "\n",
        "def generate_moves(board: List[List[int]]) -> List[List[List[int]]]:\n",
        "    moves = []\n",
        "    n = 3\n",
        "    empty_pos = find_empty_position(board)\n",
        "    x, y = empty_pos\n",
        "\n",
        "    for dx, dy in DIRECTIONS:\n",
        "        new_x, new_y = x + dx, y + dy\n",
        "\n",
        "        if is_valid_move(new_x, new_y, n):\n",
        "            new_board = copy_board(board)\n",
        "            new_board[x][y], new_board[new_x][new_y] = new_board[new_x][new_y], new_board[x][y]\n",
        "            moves.append(new_board)\n",
        "\n",
        "    return moves\n",
        "\n",
        "def is_valid_move(x: int, y: int, n: int) -> bool:\n",
        "    return 0 <= x < n and 0 <= y < n\n",
        "\n",
        "def find_empty_position(board: List[List[int]]) -> Tuple[int, int]:\n",
        "    for i in range(3):\n",
        "        for j in range(3):\n",
        "            if board[i][j] == 0:\n",
        "                return i, j\n",
        "    raise ValueError(\"No empty tile found in the board\")\n",
        "\n",
        "def copy_board(board: List[List[int]]) -> List[List[int]]:\n",
        "    return [row.copy() for row in board]\n",
        "\n",
        "def print_board(board: List[List[int]]) -> None:\n",
        "    for row in board:\n",
        "        print(' '.join(map(str, row)))\n",
        "    print()\n",
        "\n",
        "if __name__ == \"__main__\":\n",
        "    initial_board = [\n",
        "        [1, 2, 3],\n",
        "        [4, 5, 6],\n",
        "        [7, 0, 8]\n",
        "    ]\n",
        "\n",
        "    print(\"Initial Board:\")\n",
        "    print_board(initial_board)\n",
        "\n",
        "    possible_moves = generate_moves(initial_board)\n",
        "\n",
        "    print(\"Possible Moves:\")\n",
        "    for move in possible_moves:\n",
        "      print_board(move)"
      ],
      "metadata": {
        "colab": {
          "base_uri": "https://localhost:8080/"
        },
        "id": "E04-Di5GmKBG",
        "outputId": "63d62a51-ccce-4b3b-80be-55e8049f1fba"
      },
      "execution_count": 5,
      "outputs": [
        {
          "output_type": "stream",
          "name": "stdout",
          "text": [
            "Initial Board:\n",
            "1 2 3\n",
            "4 5 6\n",
            "7 0 8\n",
            "\n",
            "Possible Moves:\n",
            "1 2 3\n",
            "4 0 6\n",
            "7 5 8\n",
            "\n",
            "1 2 3\n",
            "4 5 6\n",
            "0 7 8\n",
            "\n",
            "1 2 3\n",
            "4 5 6\n",
            "7 8 0\n",
            "\n"
          ]
        }
      ]
    },
    {
      "cell_type": "markdown",
      "source": [
        "## Domain-Specific Functions\n",
        "\n",
        "1. **Water Jug Problem**:\n",
        "   - **MoveGen Function**: Generates possible states by filling, emptying, or transferring water between two jugs.\n",
        "   - **GoalTest Function**: Checks if one of the jugs has exactly 6 liters of water.\n",
        "\n",
        "2. **Travelling Salesman Problem (TSP)**:\n",
        "   - **MoveGen Function**: Generates possible next cities to visit from the current city, considering unvisited cities.\n",
        "   - **GoalTest Function**: Verifies if all cities have been visited exactly once and the salesman has returned to the starting city.\n",
        "\n",
        "3. **8 Puzzle Problem**:\n",
        "   - **MoveGen Function**: Generates new states by sliding a tile into the blank space to create different configurations.\n",
        "   - **GoalTest Function**: Checks if the current puzzle configuration matches the goal configuration."
      ],
      "metadata": {
        "id": "vzuh3g6bxi_x"
      }
    },
    {
      "cell_type": "markdown",
      "source": [
        "#Conclusions\n",
        "\n",
        "In each of these problem-solving methods, the GoalTest Function is used to determine whether the problem has been solved by reaching a desired final state. The MoveGen Function, on the other hand, is responsible for exploring the problem space by generating all possible moves or states from the current situation. Together, these functions form the backbone of problem-solving strategies, guiding the search for solutions in a systematic and efficient manner."
      ],
      "metadata": {
        "id": "nNexTsFNw7Vc"
      }
    }
  ]
}
{
  "nbformat": 4,
  "nbformat_minor": 0,
  "metadata": {
    "colab": {
      "provenance": []
    },
    "kernelspec": {
      "name": "python3",
      "display_name": "Python 3"
    },
    "language_info": {
      "name": "python"
    }
  },
  "cells": [
    {
      "cell_type": "code",
      "source": [
        "import random\n",
        "import numpy as np"
      ],
      "metadata": {
        "id": "fPh2Ikevnb7I"
      },
      "execution_count": 7,
      "outputs": []
    },
    {
      "cell_type": "markdown",
      "source": [
        "#Genetic Optimization"
      ],
      "metadata": {
        "id": "Na18A010orm8"
      }
    },
    {
      "cell_type": "code",
      "source": [
        "def calculate_distance(city1, city2):\n",
        "    return np.linalg.norm(np.array(city1) - np.array(city2))\n",
        "\n",
        "def generate_cities(n):\n",
        "    return np.random.rand(n, 2)\n",
        "\n",
        "def create_population(cities, size):\n",
        "    return [random.sample(list(cities), len(cities)) for _ in range(size)]\n",
        "\n",
        "def calculate_fitness(chromosome):\n",
        "    total_distance = sum(calculate_distance(chromosome[i], chromosome[i + 1]) for i in range(len(chromosome) - 1))\n",
        "    return total_distance + calculate_distance(chromosome[-1], chromosome[0])\n",
        "\n",
        "def mutate(chromosome, rate):\n",
        "    if random.random() < rate:\n",
        "        i, j = random.sample(range(len(chromosome)), 2)\n",
        "        chromosome[i], chromosome[j] = chromosome[j], chromosome[i]\n",
        "\n",
        "def select_parents(population, fitness_scores):\n",
        "    return random.choices(population, weights=[1/f for f in fitness_scores], k=2)"
      ],
      "metadata": {
        "id": "wx4LGE6Rb35w"
      },
      "execution_count": 8,
      "outputs": []
    },
    {
      "cell_type": "markdown",
      "source": [
        "#Genetic Recombination"
      ],
      "metadata": {
        "id": "19VZyAFRo2Up"
      }
    },
    {
      "cell_type": "code",
      "source": [
        "def find_index(parent, city):\n",
        "    for idx, city_in_parent in enumerate(parent):\n",
        "        if np.allclose(city_in_parent, city):\n",
        "            return idx\n",
        "    raise ValueError(\"City not found in parent\")\n",
        "\n",
        "def cyclic_crossover(parent1, parent2):\n",
        "    length = len(parent1)\n",
        "    child1, child2 = parent1.copy(), parent2.copy()\n",
        "\n",
        "    idx = random.randint(0, length - 1)\n",
        "    start_city = parent1[idx]\n",
        "\n",
        "    while True:\n",
        "        child1[idx], child2[idx] = child2[idx], child1[idx]\n",
        "        idx = find_index(parent1, parent2[idx])\n",
        "        if np.allclose(parent1[idx], start_city):\n",
        "            break\n",
        "    return child1, child2"
      ],
      "metadata": {
        "id": "FsHkf1mom2WT"
      },
      "execution_count": 9,
      "outputs": []
    },
    {
      "cell_type": "markdown",
      "source": [
        "#Genetic Algorthim"
      ],
      "metadata": {
        "id": "8rvWqUuro434"
      }
    },
    {
      "cell_type": "code",
      "source": [
        "def genetic_algorithm(cities, population_size=100, generations=1000, mutation_rate=0.01):\n",
        "    population = create_population(cities, population_size)\n",
        "    best_solution = min(population, key=calculate_fitness)\n",
        "    best_distance = calculate_fitness(best_solution)\n",
        "\n",
        "    for generation in range(generations):\n",
        "        fitness_scores = [calculate_fitness(ind) for ind in population]\n",
        "        new_population = []\n",
        "\n",
        "        for ind, fitness in zip(population, fitness_scores):\n",
        "            if fitness < best_distance:\n",
        "                best_distance = fitness\n",
        "                best_solution = ind\n",
        "\n",
        "        for _ in range(population_size // 2):\n",
        "            parent1, parent2 = select_parents(population, fitness_scores)\n",
        "            child1, child2 = cyclic_crossover(parent1, parent2)\n",
        "            mutate(child1, mutation_rate)\n",
        "            mutate(child2, mutation_rate)\n",
        "            new_population.extend([child1, child2])\n",
        "\n",
        "        population = new_population\n",
        "\n",
        "        if generation % 100 == 0:\n",
        "            print(f\"Generation {generation}, Best Distance: {best_distance:.2f}\")\n",
        "\n",
        "    return best_solution, best_distance"
      ],
      "metadata": {
        "id": "1m7eXYIemoYx"
      },
      "execution_count": 10,
      "outputs": []
    },
    {
      "cell_type": "markdown",
      "source": [
        "# Performance Evaluation"
      ],
      "metadata": {
        "id": "h2MejYvco_TE"
      }
    },
    {
      "cell_type": "code",
      "source": [
        "def compare_performance():\n",
        "    city_sizes = [5, 10, 20, 40]\n",
        "    results = []\n",
        "\n",
        "    for size in city_sizes:\n",
        "        print(f\"\\nRunning Genetic Algorithm for {size} cities...\")\n",
        "        cities = generate_cities(size)\n",
        "        best_solution, best_distance = genetic_algorithm(cities)\n",
        "        print(f\"Best Distance for {size} cities: {best_distance:.2f}\")\n",
        "        results.append((size, best_distance))\n",
        "\n",
        "    return results\n",
        "\n",
        "results = compare_performance()"
      ],
      "metadata": {
        "colab": {
          "base_uri": "https://localhost:8080/"
        },
        "id": "aOG2E-GjmjhR",
        "outputId": "1e406d4a-3a92-444a-9e6a-09699ce37bce"
      },
      "execution_count": 11,
      "outputs": [
        {
          "output_type": "stream",
          "name": "stdout",
          "text": [
            "\n",
            "Running Genetic Algorithm for 5 cities...\n",
            "Generation 0, Best Distance: 1.69\n",
            "Generation 100, Best Distance: 1.69\n",
            "Generation 200, Best Distance: 1.69\n",
            "Generation 300, Best Distance: 1.69\n",
            "Generation 400, Best Distance: 1.69\n",
            "Generation 500, Best Distance: 1.69\n",
            "Generation 600, Best Distance: 1.69\n",
            "Generation 700, Best Distance: 1.69\n",
            "Generation 800, Best Distance: 1.69\n",
            "Generation 900, Best Distance: 1.69\n",
            "Best Distance for 5 cities: 1.69\n",
            "\n",
            "Running Genetic Algorithm for 10 cities...\n",
            "Generation 0, Best Distance: 4.08\n",
            "Generation 100, Best Distance: 3.57\n",
            "Generation 200, Best Distance: 3.52\n",
            "Generation 300, Best Distance: 3.38\n",
            "Generation 400, Best Distance: 3.38\n",
            "Generation 500, Best Distance: 3.38\n",
            "Generation 600, Best Distance: 3.38\n",
            "Generation 700, Best Distance: 3.38\n",
            "Generation 800, Best Distance: 3.38\n",
            "Generation 900, Best Distance: 3.38\n",
            "Best Distance for 10 cities: 3.38\n",
            "\n",
            "Running Genetic Algorithm for 20 cities...\n",
            "Generation 0, Best Distance: 8.17\n",
            "Generation 100, Best Distance: 6.01\n",
            "Generation 200, Best Distance: 6.01\n",
            "Generation 300, Best Distance: 5.93\n",
            "Generation 400, Best Distance: 5.74\n",
            "Generation 500, Best Distance: 5.74\n",
            "Generation 600, Best Distance: 5.74\n",
            "Generation 700, Best Distance: 5.74\n",
            "Generation 800, Best Distance: 5.74\n",
            "Generation 900, Best Distance: 5.74\n",
            "Best Distance for 20 cities: 5.74\n",
            "\n",
            "Running Genetic Algorithm for 40 cities...\n",
            "Generation 0, Best Distance: 16.76\n",
            "Generation 100, Best Distance: 14.54\n",
            "Generation 200, Best Distance: 14.31\n",
            "Generation 300, Best Distance: 12.78\n",
            "Generation 400, Best Distance: 12.78\n",
            "Generation 500, Best Distance: 12.78\n",
            "Generation 600, Best Distance: 12.57\n",
            "Generation 700, Best Distance: 12.50\n",
            "Generation 800, Best Distance: 12.50\n",
            "Generation 900, Best Distance: 12.50\n",
            "Best Distance for 40 cities: 12.50\n"
          ]
        }
      ]
    },
    {
      "cell_type": "markdown",
      "source": [
        "#Summary Table\n"
      ],
      "metadata": {
        "id": "j9WPmNhO4lOS"
      }
    },
    {
      "cell_type": "code",
      "source": [
        "def print_summary_table(results):\n",
        "    print(\"\\nSummary of Observations:\")\n",
        "    print(f\"{'City Size':<15}{'Best Distance':<15}\")\n",
        "    print(\"-\" * 30)\n",
        "    for size, best_distance in results:\n",
        "        print(f\"{size:<15}{best_distance:<15.2f}\")\n",
        "\n",
        "print_summary_table(results)"
      ],
      "metadata": {
        "colab": {
          "base_uri": "https://localhost:8080/"
        },
        "id": "0aV3JA8V4gfY",
        "outputId": "80a91bce-447f-4e92-e500-9bb6f16ae61f"
      },
      "execution_count": 12,
      "outputs": [
        {
          "output_type": "stream",
          "name": "stdout",
          "text": [
            "\n",
            "Summary of Observations:\n",
            "City Size      Best Distance  \n",
            "------------------------------\n",
            "5              1.69           \n",
            "10             3.38           \n",
            "20             5.74           \n",
            "40             12.50          \n"
          ]
        }
      ]
    },
    {
      "cell_type": "markdown",
      "source": [
        "##Conclusions\n",
        "\n",
        "**Scalable and Efficient:** GA handles complex problems well, providing near-optimal solutions quickly, especially for smaller city sizes.\n",
        "\n",
        "**Effective Exploration:** By using crossover and mutation, GA balances searching for new solutions while avoiding local minima.\n",
        "\n",
        "**Parameter Sensitivity:** Performance improves with proper tuning of population size, mutation rate, and generations, especially for larger problems.\n",
        "\n",
        "**Flexible and Adaptable:** GA is versatile, applicable to various optimization problems beyond the TSP."
      ],
      "metadata": {
        "id": "ogW61Hva6S1g"
      }
    }
  ]
}
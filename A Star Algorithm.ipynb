{
  "nbformat": 4,
  "nbformat_minor": 0,
  "metadata": {
    "colab": {
      "provenance": []
    },
    "kernelspec": {
      "name": "python3",
      "display_name": "Python 3"
    },
    "language_info": {
      "name": "python"
    }
  },
  "cells": [
    {
      "cell_type": "code",
      "execution_count": 1,
      "metadata": {
        "id": "ms60Psfni6OT"
      },
      "outputs": [],
      "source": [
        "import math\n",
        "from queue import PriorityQueue"
      ]
    },
    {
      "cell_type": "code",
      "source": [
        "cities = {\n",
        "    \"Mumbai\": (19.076, 72.8777),\n",
        "    \"Pune\": (18.5204, 73.8567),\n",
        "    \"Vapi\": (20.3719, 72.9049),\n",
        "    \"Nagpur\": (21.1458, 79.0882),\n",
        "    \"Nashik\": (19.9975, 73.7898),\n",
        "    \"Aurangabad\": (19.8762, 75.3433),\n",
        "    \"Ahmedabad\": (23.0225, 72.5714),\n",
        "    \"Surat\": (21.1702, 72.8311),\n",
        "    \"Jaipur\": (26.9124, 75.7873),\n",
        "    \"Jodhpur\": (26.2389, 73.0243),\n",
        "    \"Kota\": (25.2138, 75.8648),\n",
        "    \"Jhansi\": (25.4484, 78.5685),\n",
        "    \"Bhopal\": (23.2599, 77.4126),\n",
        "    \"Indore\": (22.7196, 75.8577),\n",
        "    \"Faridabad\": (28.4089, 77.3178),\n",
        "    \"Ghaziabad\": (28.6692, 77.4538),\n",
        "    \"New Delhi\": (28.6139, 77.209),\n",
        "    \"Noida\": (28.5355, 77.391),\n",
        "    \"Gurugram\": (28.4595, 77.0266),\n",
        "    \"Manali\": (32.2396, 77.1887),\n",
        "    \"Dharamshala\": (32.219, 76.3234),\n",
        "    \"Shimla\": (31.1048, 77.1734),\n",
        "    \"Spiti Valley\": (32.246, 78.0081),\n",
        "    \"Chandigarh\": (30.7333, 76.7794),\n",
        "    \"Jammu\": (32.7266, 74.857),\n",
        "    \"Amritsar\": (31.634, 74.8723),\n",
        "    \"Dalhousie\": (32.5373, 75.9713),\n",
        "    \"Mussoorie\": (30.4599, 78.066),\n",
        "    \"Dehradun\": (30.3165, 78.0322),\n",
        "    \"Katra\": (32.9856, 74.9389),\n",
        "    \"Srinagar\": (34.0837, 74.7973),\n",
        "    \"Kargil\": (34.5553, 76.135),\n",
        "    \"Leh\": (34.1526, 77.577),\n",
        "    \"Tehsil\": (28.6139, 77.209)\n",
        "}"
      ],
      "metadata": {
        "id": "P5UWNT1OjucW"
      },
      "execution_count": 2,
      "outputs": []
    },
    {
      "cell_type": "code",
      "source": [
        "def euclidean_distance(city1, city2):\n",
        "    lat1, lon1 = cities[city1]\n",
        "    lat2, lon2 = cities[city2]\n",
        "    return math.sqrt((lat2 - lat1) ** 2 + (lon2 - lon1) ** 2)"
      ],
      "metadata": {
        "id": "qg7o6ns_nVKW"
      },
      "execution_count": 3,
      "outputs": []
    },
    {
      "cell_type": "code",
      "source": [
        "graph = {\n",
        "    \"Mumbai\": [\"Pune\", \"Vapi\", \"Nashik\"],\n",
        "    \"Pune\": [\"Mumbai\", \"Aurangabad\"],\n",
        "    \"Vapi\": [\"Mumbai\", \"Surat\"],\n",
        "    \"Nashik\": [\"Mumbai\", \"Aurangabad\"],\n",
        "    \"Aurangabad\": [\"Pune\", \"Nashik\", \"Indore\", \"Nagpur\"],\n",
        "    \"Nagpur\": [\"Aurangabad\", \"Bhopal\"],\n",
        "    \"Surat\": [\"Vapi\", \"Ahmedabad\"],\n",
        "    \"Ahmedabad\": [\"Surat\", \"Jaipur\"],\n",
        "    \"Jaipur\": [\"Ahmedabad\", \"Jodhpur\", \"Kota\", \"New Delhi\"],\n",
        "    \"Jodhpur\": [\"Jaipur\"],\n",
        "    \"Kota\": [\"Jaipur\", \"Bhopal\"],\n",
        "    \"Bhopal\": [\"Nagpur\", \"Kota\", \"Jhansi\"],\n",
        "    \"Jhansi\": [\"Bhopal\", \"New Delhi\"],\n",
        "    \"Indore\": [\"Aurangabad\", \"Bhopal\"],\n",
        "    \"New Delhi\": [\"Jaipur\", \"Faridabad\", \"Ghaziabad\", \"Jhansi\", \"Noida\", \"Tehsil\", \"Chandigarh\"],\n",
        "    \"Faridabad\": [\"New Delhi\", \"Gurugram\"],\n",
        "    \"Ghaziabad\": [\"New Delhi\"],\n",
        "    \"Noida\": [\"New Delhi\"],\n",
        "    \"Gurugram\": [\"Faridabad\"],\n",
        "    \"Chandigarh\": [\"Shimla\", \"New Delhi\", \"Jammu\"],\n",
        "    \"Shimla\": [\"Chandigarh\", \"Dharamshala\"],\n",
        "    \"Manali\": [\"Shimla\"],\n",
        "    \"Spiti Valley\": [\"Manali\"],\n",
        "    \"Jammu\": [\"Katra\", \"Amritsar\", \"Dharamshala\", \"Chandigarh\", \"Srinagar\"],\n",
        "    \"Dharamshala\": [\"Jammu\", \"Manali\"],\n",
        "    \"Amritsar\": [\"Jammu\"],\n",
        "    \"Katra\": [\"Jammu\"],\n",
        "    \"Srinagar\": [\"Kargil\", \"Leh\", \"Jammu\"],\n",
        "    \"Kargil\": [\"Leh\", \"Srinagar\"],\n",
        "    \"Leh\": [\"Kargil\", \"Srinagar\"],\n",
        "    \"Tehsil\": [\"New Delhi\"]\n",
        "}"
      ],
      "metadata": {
        "id": "ZFH_8g1vnK9I"
      },
      "execution_count": 4,
      "outputs": []
    },
    {
      "cell_type": "code",
      "source": [
        "def astar_search(start, goal):\n",
        "    open_list = PriorityQueue()\n",
        "    open_list.put((0, start))\n",
        "    g_cost = {city: float('inf') for city in cities}\n",
        "    g_cost[start] = 0\n",
        "    came_from = {city: None for city in cities}\n",
        "\n",
        "    while not open_list.empty():\n",
        "        current_cost, current_city = open_list.get()\n",
        "\n",
        "        if current_city == goal:\n",
        "            path = []\n",
        "            while current_city:\n",
        "                path.append(current_city)\n",
        "                current_city = came_from[current_city]\n",
        "            return path[::-1], g_cost[goal]\n",
        "\n",
        "        for neighbor in graph[current_city]:\n",
        "            tentative_g_cost = g_cost[current_city] + euclidean_distance(current_city, neighbor)\n",
        "\n",
        "            if tentative_g_cost < g_cost[neighbor]:\n",
        "                g_cost[neighbor] = tentative_g_cost\n",
        "                f_cost = tentative_g_cost + euclidean_distance(neighbor, goal)\n",
        "                open_list.put((f_cost, neighbor))\n",
        "                came_from[neighbor] = current_city\n",
        "\n",
        "                print(f\"Visiting: {current_city}, Neighbor: {neighbor}, Tentative G Cost: {tentative_g_cost}, F Cost: {f_cost}\")\n",
        "\n",
        "    return None, float('inf')"
      ],
      "metadata": {
        "id": "5TgVhRl6nRIN"
      },
      "execution_count": 5,
      "outputs": []
    },
    {
      "cell_type": "code",
      "source": [
        "start_city = \"Mumbai\"\n",
        "goal_city = \"Leh\"\n",
        "path, cost = astar_search(start_city, goal_city)"
      ],
      "metadata": {
        "colab": {
          "base_uri": "https://localhost:8080/"
        },
        "id": "67Ma4BIpnaDn",
        "outputId": "972957e8-d57d-4070-d82f-76ea7e6f6056"
      },
      "execution_count": 6,
      "outputs": [
        {
          "output_type": "stream",
          "name": "stdout",
          "text": [
            "Visiting: Mumbai, Neighbor: Pune, Tentative G Cost: 1.1256697384224206, F Cost: 17.19446897576433\n",
            "Visiting: Mumbai, Neighbor: Vapi, Tentative G Cost: 1.296185422692293, F Cost: 15.847343826750715\n",
            "Visiting: Mumbai, Neighbor: Nashik, Tentative G Cost: 1.296568031381303, F Cost: 15.949545198155297\n",
            "Visiting: Vapi, Neighbor: Surat, Tentative G Cost: 2.0978894391472442, F Cost: 15.920561994409482\n",
            "Visiting: Surat, Neighbor: Ahmedabad, Tentative G Cost: 3.9683063391992093, F Cost: 16.1722056082853\n",
            "Visiting: Nashik, Neighbor: Aurangabad, Tentative G Cost: 2.854796493449686, F Cost: 17.304883436094702\n",
            "Visiting: Ahmedabad, Neighbor: Jaipur, Tentative G Cost: 9.015417871551158, F Cost: 16.473535739351313\n",
            "Visiting: Jaipur, Neighbor: Jodhpur, Tentative G Cost: 11.85931858184328, F Cost: 20.98914470176473\n",
            "Visiting: Jaipur, Neighbor: Kota, Tentative G Cost: 10.715784952507505, F Cost: 19.817091137885512\n",
            "Visiting: Jaipur, Neighbor: New Delhi, Tentative G Cost: 11.232698444685735, F Cost: 16.783610233752462\n",
            "Visiting: New Delhi, Neighbor: Faridabad, Tentative G Cost: 11.464781274727082, F Cost: 17.2143268506835\n",
            "Visiting: New Delhi, Neighbor: Ghaziabad, Tentative G Cost: 11.483666829148795, F Cost: 16.9684506717446\n",
            "Visiting: New Delhi, Neighbor: Jhansi, Tentative G Cost: 14.677786324551791, F Cost: 23.43827545986838\n",
            "Visiting: New Delhi, Neighbor: Noida, Tentative G Cost: 11.430866454213007, F Cost: 17.051045135536228\n",
            "Visiting: New Delhi, Neighbor: Tehsil, Tentative G Cost: 11.232698444685735, F Cost: 16.783610233752462\n",
            "Visiting: New Delhi, Neighbor: Chandigarh, Tentative G Cost: 13.395199894396232, F Cost: 16.906293491838486\n",
            "Visiting: Chandigarh, Neighbor: Shimla, Tentative G Cost: 13.936723901250964, F Cost: 17.011130803402985\n",
            "Visiting: Chandigarh, Neighbor: Jammu, Tentative G Cost: 16.164471757178934, F Cost: 19.235607703372132\n",
            "Visiting: Shimla, Neighbor: Dharamshala, Tentative G Cost: 15.33813092278325, F Cost: 17.642544496775553\n",
            "Visiting: Faridabad, Neighbor: Gurugram, Tentative G Cost: 11.760344804276995, F Cost: 17.479988829039378\n",
            "Visiting: Aurangabad, Neighbor: Indore, Tentative G Cost: 5.7443519817558, F Cost: 17.305903845151995\n",
            "Visiting: Aurangabad, Neighbor: Nagpur, Tentative G Cost: 6.809054978930877, F Cost: 19.903350365854145\n",
            "Visiting: Indore, Neighbor: Bhopal, Tentative G Cost: 7.390449822104304, F Cost: 18.284390369491188\n",
            "Visiting: Dharamshala, Neighbor: Manali, Tentative G Cost: 16.203676097803008, F Cost: 18.155686827794007\n",
            "Visiting: Bhopal, Neighbor: Kota, Tentative G Cost: 9.883121090041573, F Cost: 18.984427275419584\n",
            "Visiting: Bhopal, Neighbor: Jhansi, Tentative G Cost: 9.865452258466743, F Cost: 18.625941393783332\n",
            "Visiting: Jammu, Neighbor: Katra, Tentative G Cost: 16.436112346929438, F Cost: 19.32080654389382\n",
            "Visiting: Jammu, Neighbor: Amritsar, Tentative G Cost: 17.25717887713377, F Cost: 20.952953227658977\n",
            "Visiting: Jammu, Neighbor: Srinagar, Tentative G Cost: 17.52288424975989, F Cost: 20.303438025539087\n",
            "Visiting: Srinagar, Neighbor: Kargil, Tentative G Cost: 18.941280474374153, F Cost: 20.438454909769035\n",
            "Visiting: Srinagar, Neighbor: Leh, Tentative G Cost: 20.303438025539087, F Cost: 20.303438025539087\n"
          ]
        }
      ]
    },
    {
      "cell_type": "code",
      "source": [
        "print(f\"Shortest path from {start_city} to {goal_city}:\")\n",
        "if path:\n",
        "    print(\" -> \".join(path))\n",
        "    print(f\"Total cost of the path: {cost}\")\n",
        "else:\n",
        "    print(f\"No path found from {start_city} to {goal_city}\")\n",
        "print(f\"Total cost of the path: {cost}\")"
      ],
      "metadata": {
        "colab": {
          "base_uri": "https://localhost:8080/"
        },
        "id": "7WWXI8mfnbr9",
        "outputId": "662e7155-e688-4694-9e45-5f1e65379bbb"
      },
      "execution_count": 7,
      "outputs": [
        {
          "output_type": "stream",
          "name": "stdout",
          "text": [
            "Shortest path from Mumbai to Leh:\n",
            "Mumbai -> Vapi -> Surat -> Ahmedabad -> Jaipur -> New Delhi -> Chandigarh -> Jammu -> Srinagar -> Leh\n",
            "Total cost of the path: 20.303438025539087\n",
            "Total cost of the path: 20.303438025539087\n"
          ]
        }
      ]
    }
  ]
}
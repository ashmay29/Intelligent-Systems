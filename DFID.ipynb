{
  "nbformat": 4,
  "nbformat_minor": 0,
  "metadata": {
    "colab": {
      "provenance": []
    },
    "kernelspec": {
      "name": "python3",
      "display_name": "Python 3"
    },
    "language_info": {
      "name": "python"
    }
  },
  "cells": [
    {
      "cell_type": "markdown",
      "source": [
        "# 8 Puzzle Problem"
      ],
      "metadata": {
        "id": "Q_qGkWc30Dqt"
      }
    },
    {
      "cell_type": "code",
      "execution_count": 2,
      "metadata": {
        "colab": {
          "base_uri": "https://localhost:8080/"
        },
        "id": "siukEG7iSr_A",
        "outputId": "d2c60cbd-d689-4099-ebd5-4d9cc3f6fe19"
      },
      "outputs": [
        {
          "output_type": "stream",
          "name": "stdout",
          "text": [
            "Step 0:\n",
            "[[1 2 3]\n",
            " [4 5 6]\n",
            " [0 7 8]]\n",
            "\n",
            "Step 1:\n",
            "[[1 2 3]\n",
            " [4 5 6]\n",
            " [7 0 8]]\n",
            "\n",
            "Step 2:\n",
            "[[1 2 3]\n",
            " [4 5 6]\n",
            " [7 8 0]]\n",
            "\n"
          ]
        }
      ],
      "source": [
        "import numpy as np\n",
        "\n",
        "def move_gen(state):\n",
        "    neighbors = []\n",
        "    zero_pos = np.argwhere(state == 0)\n",
        "    if zero_pos.size == 0:\n",
        "        return neighbors\n",
        "    zero_pos = zero_pos[0]\n",
        "    moves = [(-1, 0), (1, 0), (0, -1), (0, 1)]\n",
        "    for move in moves:\n",
        "        new_pos = zero_pos + move\n",
        "        if 0 <= new_pos[0] < 3 and 0 <= new_pos[1] < 3:\n",
        "            new_state = state.copy()\n",
        "            new_state[zero_pos[0], zero_pos[1]], new_state[new_pos[0], new_pos[1]] = new_state[new_pos[0], new_pos[1]], new_state[zero_pos[0], zero_pos[1]]\n",
        "            neighbors.append(new_state)\n",
        "    return neighbors\n",
        "\n",
        "def is_goal(state):\n",
        "    return np.array_equal(state, np.array([[1, 2, 3], [4, 5, 6], [7, 8, 0]]))\n",
        "\n",
        "def occursIn(state, path):\n",
        "    return any(np.array_equal(state, p) for p in path)\n",
        "\n",
        "def removeSeen(neighbors, path):\n",
        "    return [neighbor for neighbor in neighbors if not occursIn(neighbor, path)]\n",
        "\n",
        "def reconstructPath(final_state, parents):\n",
        "    path = [final_state]\n",
        "    while final_state in parents:\n",
        "        final_state = parents[final_state]\n",
        "        path.insert(0, final_state)\n",
        "    return path\n",
        "\n",
        "def makePairs(state, neighbors):\n",
        "    return [(state, neighbor) for neighbor in neighbors]\n",
        "\n",
        "def dfs(state, depth, path, parents):\n",
        "    if depth == 0:\n",
        "        return None\n",
        "    if is_goal(state):\n",
        "        return path\n",
        "    neighbors = move_gen(state)\n",
        "    neighbors = removeSeen(neighbors, path)\n",
        "    pairs = makePairs(state, neighbors)\n",
        "    for parent, neighbor in pairs:\n",
        "        parents[neighbor.tobytes()] = parent\n",
        "        result = dfs(neighbor, depth - 1, path + [neighbor], parents)\n",
        "        if result:\n",
        "            return result\n",
        "    return None\n",
        "\n",
        "def dfid(start_state):\n",
        "    for depth in range(1, 100):\n",
        "        parents = {}\n",
        "        path = dfs(start_state, depth, [start_state], parents)\n",
        "        if path:\n",
        "            return path\n",
        "    return None\n",
        "\n",
        "start_state = np.array([[1, 2, 3], [4, 5, 6], [0, 7, 8]])\n",
        "path = dfid(start_state)\n",
        "\n",
        "if path:\n",
        "    for i, step in enumerate(path):\n",
        "        print(f\"Step {i}:\\n{step}\\n\")\n",
        "else:\n",
        "    print(\"No solution found.\")\n"
      ]
    },
    {
      "cell_type": "markdown",
      "source": [
        "Optimality: DFID can be optimal for the 8-Puzzle problem if the cost of each move is equal. DFID explores all possible paths up to a certain depth before increasing the depth limit, ensuring it finds the shortest solution first.\n",
        "\n",
        "Completeness: DFID is complete for the 8-Puzzle problem, as it will eventually explore all possible configurations to find a solution if one exists. The iterative deepening aspect ensures that no potential solutions are overlooked."
      ],
      "metadata": {
        "id": "GNYr2HE2GLok"
      }
    },
    {
      "cell_type": "markdown",
      "source": [
        "# Water Jug Problem"
      ],
      "metadata": {
        "id": "5oNuJVnG0J20"
      }
    },
    {
      "cell_type": "code",
      "source": [
        "def move_gen(state):\n",
        "    jug1, jug2 = state\n",
        "    capacity1, capacity2 = 3, 7\n",
        "    possible_moves = [\n",
        "        (capacity1, jug2),\n",
        "        (jug1, capacity2),\n",
        "        (0, jug2),\n",
        "        (jug1, 0),\n",
        "        (min(jug1 + jug2, capacity1), max(0, jug1 + jug2 - capacity1)),\n",
        "        (max(0, jug1 + jug2 - capacity2), min(jug1 + jug2, capacity2))\n",
        "    ]\n",
        "    return possible_moves\n",
        "\n",
        "def is_goal(state):\n",
        "    return state == (2, 0)\n",
        "\n",
        "def occursIn(state, path):\n",
        "    return any(state == p for p in path)\n",
        "\n",
        "def removeSeen(neighbors, path):\n",
        "    return [neighbor for neighbor in neighbors if not occursIn(neighbor, path)]\n",
        "\n",
        "def reconstructPath(final_state, parents):\n",
        "    path = [final_state]\n",
        "    while final_state in parents:\n",
        "        final_state = parents[final_state]\n",
        "        path.insert(0, final_state)\n",
        "    return path\n",
        "\n",
        "def makePairs(state, neighbors):\n",
        "    return [(state, neighbor) for neighbor in neighbors]\n",
        "\n",
        "def dfs(state, depth, path, parents):\n",
        "    if depth == 0:\n",
        "        return None\n",
        "    if is_goal(state):\n",
        "        return path\n",
        "    neighbors = move_gen(state)\n",
        "    neighbors = removeSeen(neighbors, path)\n",
        "    pairs = makePairs(state, neighbors)\n",
        "    for parent, neighbor in pairs:\n",
        "        parents[neighbor] = parent\n",
        "        result = dfs(neighbor, depth - 1, path + [neighbor], parents)\n",
        "        if result:\n",
        "            return result\n",
        "    return None\n",
        "\n",
        "def dfid(start_state):\n",
        "    for depth in range(1, 100):\n",
        "        parents = {}\n",
        "        path = dfs(start_state, depth, [start_state], parents)\n",
        "        if path:\n",
        "            return path\n",
        "    return None\n",
        "\n",
        "start_state = (0, 0)\n",
        "path = dfid(start_state)\n",
        "\n",
        "if path:\n",
        "    for i, step in enumerate(path):\n",
        "        print(f\"Step {i}: {step}\")\n",
        "else:\n",
        "    print(\"No solution found.\")\n"
      ],
      "metadata": {
        "colab": {
          "base_uri": "https://localhost:8080/"
        },
        "id": "lobN_F-CS3lJ",
        "outputId": "f452a4cc-33c1-4bc7-aea0-714edc71f4af"
      },
      "execution_count": 5,
      "outputs": [
        {
          "output_type": "stream",
          "name": "stdout",
          "text": [
            "Step 0: (0, 0)\n",
            "Step 1: (3, 0)\n",
            "Step 2: (0, 3)\n",
            "Step 3: (3, 3)\n",
            "Step 4: (0, 6)\n",
            "Step 5: (3, 6)\n",
            "Step 6: (2, 7)\n",
            "Step 7: (2, 0)\n"
          ]
        }
      ]
    },
    {
      "cell_type": "markdown",
      "source": [
        "Optimality: DFID is also optimal in the Water Jug problem, provided all actions (filling, emptying, pouring) have the same cost. Since it explores solutions incrementally by depth, the first solution found will be the shortest one.\n",
        "\n",
        "Completeness: DFID is complete for the Water Jug problem, as it explores all possible states (combinations of jug fill levels) in a systematic manner, ensuring a solution will be found if one exists."
      ],
      "metadata": {
        "id": "BBXgkI_zGaB6"
      }
    },
    {
      "cell_type": "markdown",
      "source": [
        "#Graph Problem"
      ],
      "metadata": {
        "id": "gqE5ynG3_xyo"
      }
    },
    {
      "cell_type": "code",
      "source": [
        "def move_gen(state):\n",
        "    graph = {\n",
        "        'A': ['B', 'C', 'D'],\n",
        "        'B': ['A', 'E', 'F'],\n",
        "        'C': ['A', 'G', 'H'],\n",
        "        'D': ['A', 'I'],\n",
        "        'E': ['B', 'J'],\n",
        "        'F': ['B', 'K'],\n",
        "        'G': ['C', 'L'],\n",
        "        'H': ['C', 'M'],\n",
        "        'I': ['D', 'N'],\n",
        "        'J': ['E', 'O'],\n",
        "        'K': ['F', 'P'],\n",
        "        'L': ['G'],\n",
        "        'M': ['H'],\n",
        "        'N': ['I'],\n",
        "        'O': ['J'],\n",
        "        'P': ['K']\n",
        "    }\n",
        "    return graph[state]\n",
        "\n",
        "def is_goal(state):\n",
        "    return state == 'O'\n",
        "\n",
        "def occursIn(state, path):\n",
        "    return state in path\n",
        "\n",
        "def removeSeen(neighbors, path):\n",
        "    return [neighbor for neighbor in neighbors if not occursIn(neighbor, path)]\n",
        "\n",
        "def reconstructPath(final_state, parents):\n",
        "    path = [final_state]\n",
        "    while final_state in parents:\n",
        "        final_state = parents[final_state]\n",
        "        path.insert(0, final_state)\n",
        "    return path\n",
        "\n",
        "def makePairs(state, neighbors):\n",
        "    return [(state, neighbor) for neighbor in neighbors]\n",
        "\n",
        "def dfs(state, depth, path, parents):\n",
        "    if depth == 0:\n",
        "        return None\n",
        "    if is_goal(state):\n",
        "        return path\n",
        "    neighbors = move_gen(state)\n",
        "    neighbors = removeSeen(neighbors, path)\n",
        "    pairs = makePairs(state, neighbors)\n",
        "    for parent, neighbor in pairs:\n",
        "        parents[neighbor] = parent\n",
        "        result = dfs(neighbor, depth - 1, path + [neighbor], parents)\n",
        "        if result:\n",
        "            return result\n",
        "    return None\n",
        "\n",
        "def dfid(start_state):\n",
        "    for depth in range(1, 100):\n",
        "        parents = {}\n",
        "        path = dfs(start_state, depth, [start_state], parents)\n",
        "        if path:\n",
        "            return path\n",
        "    return None\n",
        "\n",
        "start_state = 'A'\n",
        "path = dfid(start_state)\n",
        "\n",
        "if path:\n",
        "    for i, step in enumerate(path):\n",
        "        print(f\"Step {i}: {step}\")\n",
        "else:\n",
        "    print(\"No solution found.\")\n"
      ],
      "metadata": {
        "colab": {
          "base_uri": "https://localhost:8080/"
        },
        "id": "YDgYPymrTEiW",
        "outputId": "61578040-e6b0-4daf-cf27-4d3432de5227"
      },
      "execution_count": 10,
      "outputs": [
        {
          "output_type": "stream",
          "name": "stdout",
          "text": [
            "Step 0: A\n",
            "Step 1: B\n",
            "Step 2: E\n",
            "Step 3: J\n",
            "Step 4: O\n"
          ]
        }
      ]
    },
    {
      "cell_type": "markdown",
      "source": [
        "Optimality: DFID can be optimal for the Graph problem if all edges have the same weight. It finds the shortest path to the goal node first because it increases the depth limit iteratively, ensuring that shorter paths are considered before longer ones.\n",
        "\n",
        "Completeness: DFID is complete for the Graph problem. It explores all possible nodes in a depth-limited manner, ensuring that the solution will be found if the goal node is reachable from the start node."
      ],
      "metadata": {
        "id": "CQWawItEGil3"
      }
    },
    {
      "cell_type": "markdown",
      "source": [
        "#Conclusion\n",
        "Depth-First Iterative Deepening (DFID) is a powerful algorithm that combines the advantages of depth-first search (DFS) and breadth-first search (BFS). It is particularly useful when the depth of the solution is unknown, and it is both memory-efficient and optimal in scenarios where all actions have the same cost.\n",
        "\n",
        "DFID uses memory efficiently by maintaining only the current path in memory, unlike BFS, which requires storing all nodes at the current level.\n",
        "\n",
        "In summary, DFID is well-suited for problems like the 8-Puzzle, Water Jug, and Graph traversal, especially when memory constraints are a concern and an optimal solution is desired."
      ],
      "metadata": {
        "id": "u3H13-S4Glxc"
      }
    }
  ]
}
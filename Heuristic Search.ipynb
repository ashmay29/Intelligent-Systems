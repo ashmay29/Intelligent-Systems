{
  "nbformat": 4,
  "nbformat_minor": 0,
  "metadata": {
    "colab": {
      "provenance": []
    },
    "kernelspec": {
      "name": "python3",
      "display_name": "Python 3"
    },
    "language_info": {
      "name": "python"
    }
  },
  "cells": [
    {
      "cell_type": "markdown",
      "source": [
        "#Definition of the Problem"
      ],
      "metadata": {
        "id": "xBXwBPX_IEXT"
      }
    },
    {
      "cell_type": "markdown",
      "source": [
        "## Definitions of the Heuristic Functions"
      ],
      "metadata": {
        "id": "j4Af69pcINNq"
      }
    },
    {
      "cell_type": "code",
      "execution_count": null,
      "metadata": {
        "id": "WouQ8IHQD5P-"
      },
      "outputs": [],
      "source": [
        "class BlocksWorld:\n",
        "    def __init__(self, initial_state, goal_state):\n",
        "        self.initial_state = initial_state\n",
        "        self.goal_state = goal_state\n",
        "\n",
        "    def is_goal(self, state):\n",
        "        return state == self.goal_state\n",
        "\n",
        "    def move_gen(self, state):\n",
        "        neighbors = []\n",
        "        for i in range(len(state)):\n",
        "            if len(state[i]) == 0:\n",
        "                continue\n",
        "            for j in range(len(state)):\n",
        "                if i != j:\n",
        "                    new_state = [stack[:] for stack in state]\n",
        "                    block = new_state[i].pop()\n",
        "                    new_state[j].append(block)\n",
        "                    neighbors.append(new_state)\n",
        "        return neighbors\n",
        "\n",
        "    def heuristic_1(self, state):\n",
        "    # Heuristic 1: Number of blocks out of place\n",
        "      misplaced = 0\n",
        "      for i in range(len(state)):\n",
        "          for j in range(len(state[i])):\n",
        "              if j >= len(self.goal_state[i]) or state[i][j] != self.goal_state[i][j]:\n",
        "                  misplaced += 1\n",
        "      return misplaced\n",
        "\n",
        "    def heuristic_2(self, state):\n",
        "      # Heuristic 2: Sum of distances of each block from its goal position\n",
        "      distance = 0\n",
        "      for i in range(len(state)):\n",
        "          for j in range(len(state[i])):\n",
        "              for k in range(len(self.goal_state)):\n",
        "                  if j < len(self.goal_state[k]) and state[i][j] == self.goal_state[k][j]:\n",
        "                      distance += abs(i - k)\n",
        "                      break\n",
        "      return distance"
      ]
    },
    {
      "cell_type": "markdown",
      "source": [
        "#Best First Search"
      ],
      "metadata": {
        "id": "Tumr8AA3IJT9"
      }
    },
    {
      "cell_type": "code",
      "source": [
        "from queue import PriorityQueue\n",
        "\n",
        "def best_first_search(problem, heuristic):\n",
        "    open_list = PriorityQueue()\n",
        "    open_list.put((heuristic(problem.initial_state), problem.initial_state, []))\n",
        "    closed_list = set()\n",
        "\n",
        "    while not open_list.empty():\n",
        "        _, current_state, path = open_list.get()\n",
        "\n",
        "        if problem.is_goal(current_state):\n",
        "            return path\n",
        "\n",
        "        closed_list.add(tuple(tuple(x) for x in current_state))\n",
        "\n",
        "        for neighbor in problem.move_gen(current_state):\n",
        "            if tuple(tuple(x) for x in neighbor) not in closed_list:\n",
        "                new_path = path + [neighbor]\n",
        "                open_list.put((heuristic(neighbor), neighbor, new_path))\n",
        "\n",
        "    return None"
      ],
      "metadata": {
        "id": "BLChXWWyEtTv"
      },
      "execution_count": null,
      "outputs": []
    },
    {
      "cell_type": "markdown",
      "source": [
        "#Hill Climbing"
      ],
      "metadata": {
        "id": "o39BhIALIVyG"
      }
    },
    {
      "cell_type": "code",
      "source": [
        "def hill_climbing(problem, heuristic):\n",
        "    current_state = problem.initial_state\n",
        "\n",
        "    while True:\n",
        "        neighbors = problem.move_gen(current_state)\n",
        "        neighbors.sort(key=heuristic)\n",
        "\n",
        "        best_neighbor = neighbors[0]\n",
        "\n",
        "        if heuristic(best_neighbor) >= heuristic(current_state):\n",
        "            return current_state\n",
        "\n",
        "        current_state = best_neighbor"
      ],
      "metadata": {
        "id": "ck4YFTmOEv4O"
      },
      "execution_count": null,
      "outputs": []
    },
    {
      "cell_type": "markdown",
      "source": [
        "#Printing the Results"
      ],
      "metadata": {
        "id": "zFHdcUTJIY3w"
      }
    },
    {
      "cell_type": "code",
      "source": [
        "def print_path(path):\n",
        "    for i, state in enumerate(path):\n",
        "        print(f\"Step {i}:\")\n",
        "        for stack in state:\n",
        "            print(stack)\n",
        "        print(\"\")\n",
        "\n",
        "initial_state = [['B', 'A'], [], ['C']]\n",
        "goal_state = [['A', 'B', 'C'], [], []]\n",
        "\n",
        "problem = BlocksWorld(initial_state, goal_state)\n",
        "\n",
        "def summarize_results(name, result, problem):\n",
        "    steps = len(result) if result else 0\n",
        "    final_state = result[-1] if result else None\n",
        "    print(f\"{name} Summary:\")\n",
        "    print(f\"  - Steps to Goal: {steps}\")\n",
        "    print(f\"  - Final State: {final_state}\")\n",
        "    print(f\"  - Goal Achieved: {problem.is_goal(final_state) if final_state else False}\")\n",
        "    print(\"\")"
      ],
      "metadata": {
        "id": "tev0q83iFHZm"
      },
      "execution_count": null,
      "outputs": []
    },
    {
      "cell_type": "code",
      "source": [
        "print(\"Best First Search with Heuristic 1:\")\n",
        "bfs_result_1 = best_first_search(problem, problem.heuristic_1)\n",
        "print_path(bfs_result_1)\n",
        "summarize_results(\"Best First Search with Heuristic 1\", bfs_result_1, problem)"
      ],
      "metadata": {
        "colab": {
          "base_uri": "https://localhost:8080/"
        },
        "id": "yxhiSrL8GW42",
        "outputId": "b041cc13-c1ab-4739-a6ed-c93212beec36"
      },
      "execution_count": null,
      "outputs": [
        {
          "output_type": "stream",
          "name": "stdout",
          "text": [
            "Best First Search with Heuristic 1:\n",
            "Step 0:\n",
            "['B']\n",
            "[]\n",
            "['C', 'A']\n",
            "\n",
            "Step 1:\n",
            "[]\n",
            "[]\n",
            "['C', 'A', 'B']\n",
            "\n",
            "Step 2:\n",
            "[]\n",
            "['B']\n",
            "['C', 'A']\n",
            "\n",
            "Step 3:\n",
            "['A']\n",
            "['B']\n",
            "['C']\n",
            "\n",
            "Step 4:\n",
            "['A', 'B']\n",
            "[]\n",
            "['C']\n",
            "\n",
            "Step 5:\n",
            "['A', 'B', 'C']\n",
            "[]\n",
            "[]\n",
            "\n",
            "Best First Search with Heuristic 1 Summary:\n",
            "  - Steps to Goal: 6\n",
            "  - Final State: [['A', 'B', 'C'], [], []]\n",
            "  - Goal Achieved: True\n",
            "\n"
          ]
        }
      ]
    },
    {
      "cell_type": "code",
      "source": [
        "print(\"\\nBest First Search with Heuristic 2:\")\n",
        "bfs_result_2 = best_first_search(problem, problem.heuristic_2)\n",
        "print_path(bfs_result_2)\n",
        "summarize_results(\"Best First Search with Heuristic 2\", bfs_result_2, problem)"
      ],
      "metadata": {
        "colab": {
          "base_uri": "https://localhost:8080/"
        },
        "id": "xtA954fAGaD5",
        "outputId": "2b165efe-6725-4d74-f010-061700682d59"
      },
      "execution_count": null,
      "outputs": [
        {
          "output_type": "stream",
          "name": "stdout",
          "text": [
            "\n",
            "Best First Search with Heuristic 2:\n",
            "Step 0:\n",
            "['B']\n",
            "[]\n",
            "['C', 'A']\n",
            "\n",
            "Step 1:\n",
            "[]\n",
            "[]\n",
            "['C', 'A', 'B']\n",
            "\n",
            "Step 2:\n",
            "[]\n",
            "['B']\n",
            "['C', 'A']\n",
            "\n",
            "Step 3:\n",
            "[]\n",
            "['B', 'A']\n",
            "['C']\n",
            "\n",
            "Step 4:\n",
            "['A']\n",
            "['B']\n",
            "['C']\n",
            "\n",
            "Step 5:\n",
            "['A', 'B']\n",
            "[]\n",
            "['C']\n",
            "\n",
            "Step 6:\n",
            "['A', 'B']\n",
            "['C']\n",
            "[]\n",
            "\n",
            "Step 7:\n",
            "['A', 'B', 'C']\n",
            "[]\n",
            "[]\n",
            "\n",
            "Best First Search with Heuristic 2 Summary:\n",
            "  - Steps to Goal: 8\n",
            "  - Final State: [['A', 'B', 'C'], [], []]\n",
            "  - Goal Achieved: True\n",
            "\n"
          ]
        }
      ]
    },
    {
      "cell_type": "code",
      "source": [
        "print(\"\\nHill Climbing with Heuristic 1:\")\n",
        "hc_result_1 = hill_climbing(problem, problem.heuristic_1)\n",
        "print_path([hc_result_1])\n",
        "summarize_results(\"Hill Climbing with Heuristic 1\", [hc_result_1], problem)"
      ],
      "metadata": {
        "colab": {
          "base_uri": "https://localhost:8080/"
        },
        "id": "MrFiQPZFGe0v",
        "outputId": "04620d17-4923-43c8-975e-4ece0bb150f8"
      },
      "execution_count": null,
      "outputs": [
        {
          "output_type": "stream",
          "name": "stdout",
          "text": [
            "\n",
            "Hill Climbing with Heuristic 1:\n",
            "Step 0:\n",
            "['B', 'A', 'C']\n",
            "[]\n",
            "[]\n",
            "\n",
            "Hill Climbing with Heuristic 1 Summary:\n",
            "  - Steps to Goal: 1\n",
            "  - Final State: [['B', 'A', 'C'], [], []]\n",
            "  - Goal Achieved: False\n",
            "\n"
          ]
        }
      ]
    },
    {
      "cell_type": "code",
      "source": [
        "print(\"\\nHill Climbing with Heuristic 2:\")\n",
        "hc_result_2 = hill_climbing(problem, problem.heuristic_2)\n",
        "print_path([hc_result_2])\n",
        "summarize_results(\"Hill Climbing with Heuristic 2\", [hc_result_2], problem)"
      ],
      "metadata": {
        "colab": {
          "base_uri": "https://localhost:8080/"
        },
        "id": "R4VbbYeHGfaV",
        "outputId": "0c8fe26e-d40f-4eb0-ec40-6ca3adb4e157"
      },
      "execution_count": null,
      "outputs": [
        {
          "output_type": "stream",
          "name": "stdout",
          "text": [
            "\n",
            "Hill Climbing with Heuristic 2:\n",
            "Step 0:\n",
            "['B', 'A']\n",
            "[]\n",
            "['C']\n",
            "\n",
            "Hill Climbing with Heuristic 2 Summary:\n",
            "  - Steps to Goal: 1\n",
            "  - Final State: [['B', 'A'], [], ['C']]\n",
            "  - Goal Achieved: False\n",
            "\n"
          ]
        }
      ]
    },
    {
      "cell_type": "markdown",
      "source": [
        "#Final Conclusions"
      ],
      "metadata": {
        "id": "8KRtHxL4IeJK"
      }
    },
    {
      "cell_type": "code",
      "source": [
        "print(\"Comparison Summary:\")\n",
        "print(f\"{'Method':<35} {'Steps':<10} {'Goal Achieved':<15} {'Final State'}\")\n",
        "print(f\"{'-'*80}\")\n",
        "print(f\"{'Best First Search with Heuristic 1':<35} {len(bfs_result_1):<10} {problem.is_goal(bfs_result_1[-1]):<15} {bfs_result_1[-1]}\")\n",
        "print(f\"{'Best First Search with Heuristic 2':<35} {len(bfs_result_2):<10} {problem.is_goal(bfs_result_2[-1]):<15} {bfs_result_2[-1]}\")\n",
        "print(f\"{'Hill Climbing with Heuristic 1':<35} {1:<10} {problem.is_goal(hc_result_1):<15} {hc_result_1}\")\n",
        "print(f\"{'Hill Climbing with Heuristic 2':<35} {1:<10} {problem.is_goal(hc_result_2):<15} {hc_result_2}\")"
      ],
      "metadata": {
        "colab": {
          "base_uri": "https://localhost:8080/"
        },
        "id": "QLkuGgUKGj4X",
        "outputId": "4c826db5-579c-460a-9cf4-107ce866bc63"
      },
      "execution_count": null,
      "outputs": [
        {
          "output_type": "stream",
          "name": "stdout",
          "text": [
            "Comparison Summary:\n",
            "Method                              Steps      Goal Achieved   Final State\n",
            "--------------------------------------------------------------------------------\n",
            "Best First Search with Heuristic 1  6          1               [['A', 'B', 'C'], [], []]\n",
            "Best First Search with Heuristic 2  8          1               [['A', 'B', 'C'], [], []]\n",
            "Hill Climbing with Heuristic 1      1          0               [['B', 'A', 'C'], [], []]\n",
            "Hill Climbing with Heuristic 2      1          0               [['B', 'A'], [], ['C']]\n"
          ]
        }
      ]
    },
    {
      "cell_type": "markdown",
      "source": [
        "Best First Search with both heuristics successfully reached the goal state, with Heuristic 1 requiring fewer steps (6) compared to Heuristic 2 (8). However, Hill Climbing failed to reach the goal state with either heuristic, indicating that it might get stuck in local optima. Therefore, Best First Search is more reliable for solving the Blocks World problem in this context."
      ],
      "metadata": {
        "id": "49TrHlN-IrtK"
      }
    }
  ]
}